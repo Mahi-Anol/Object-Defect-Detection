{
 "cells": [
  {
   "cell_type": "markdown",
   "id": "8c26fb0f",
   "metadata": {},
   "source": [
    "# 1.Cheaking modules and dependencies."
   ]
  },
  {
   "cell_type": "code",
   "execution_count": 6,
   "id": "4d5c1b15",
   "metadata": {},
   "outputs": [
    {
     "name": "stdout",
     "output_type": "stream",
     "text": [
      "Package           Version\n",
      "----------------- -------\n",
      "asttokens         2.0.5\n",
      "backcall          0.2.0\n",
      "colorama          0.4.4\n",
      "debugpy           1.6.0\n",
      "decorator         5.1.1\n",
      "entrypoints       0.4\n",
      "executing         0.8.3\n",
      "ipykernel         6.11.0\n",
      "ipython           8.2.0\n",
      "jedi              0.18.1\n",
      "jupyter-client    7.2.1\n",
      "jupyter-core      4.9.2\n",
      "matplotlib-inline 0.1.3\n",
      "nest-asyncio      1.5.5\n",
      "parso             0.8.3\n",
      "pickleshare       0.7.5\n",
      "pip               22.0.4\n",
      "prompt-toolkit    3.0.28\n",
      "psutil            5.9.0\n",
      "pure-eval         0.2.2\n",
      "Pygments          2.11.2\n",
      "python-dateutil   2.8.2\n",
      "pywin32           303\n",
      "pyzmq             22.3.0\n",
      "setuptools        61.3.1\n",
      "six               1.16.0\n",
      "stack-data        0.2.0\n",
      "tornado           6.1\n",
      "traitlets         5.1.1\n",
      "wcwidth           0.2.5\n"
     ]
    }
   ],
   "source": [
    "!pip list"
   ]
  },
  {
   "cell_type": "markdown",
   "id": "bb156cad",
   "metadata": {},
   "source": [
    "# 2.Installing openCv."
   ]
  },
  {
   "cell_type": "code",
   "execution_count": 7,
   "id": "d53eab6b",
   "metadata": {},
   "outputs": [
    {
     "name": "stdout",
     "output_type": "stream",
     "text": [
      "Collecting opencv-python\n",
      "  Downloading opencv_python-4.5.5.64-cp36-abi3-win_amd64.whl (35.4 MB)\n",
      "     ---------------------------------------- 35.4/35.4 MB 2.0 MB/s eta 0:00:00\n",
      "Collecting numpy>=1.19.3\n",
      "  Downloading numpy-1.22.3-cp39-cp39-win_amd64.whl (14.7 MB)\n",
      "     ---------------------------------------- 14.7/14.7 MB 2.3 MB/s eta 0:00:00\n",
      "Installing collected packages: numpy, opencv-python\n",
      "Successfully installed numpy-1.22.3 opencv-python-4.5.5.64\n"
     ]
    }
   ],
   "source": [
    "!pip install opencv-python"
   ]
  },
  {
   "cell_type": "markdown",
   "id": "41fda629",
   "metadata": {},
   "source": [
    "# 3.Importing Dependencies."
   ]
  },
  {
   "cell_type": "code",
   "execution_count": 9,
   "id": "8aef6337",
   "metadata": {},
   "outputs": [],
   "source": [
    "# Import opencv\n",
    "import cv2 \n",
    "\n",
    "# Import uuid\n",
    "import uuid \n",
    "\n",
    "# Import Operating System\n",
    "import os\n",
    "\n",
    "# Import time\n",
    "import time"
   ]
  },
  {
   "cell_type": "markdown",
   "id": "61a75519",
   "metadata": {},
   "source": [
    "# 4.Define Images to collect."
   ]
  },
  {
   "cell_type": "code",
   "execution_count": 25,
   "id": "9ca13efc",
   "metadata": {},
   "outputs": [],
   "source": [
    "labels = ['DefectivePin']\n",
    "number_imgs = 10"
   ]
  },
  {
   "cell_type": "markdown",
   "id": "7f98cb46",
   "metadata": {},
   "source": [
    "# 5.Setup folders."
   ]
  },
  {
   "cell_type": "code",
   "execution_count": 11,
   "id": "ced86f38",
   "metadata": {},
   "outputs": [],
   "source": [
    "IMAGES_PATH = os.path.join('Tensorflow', 'workspace', 'images', 'collectedimages')"
   ]
  },
  {
   "cell_type": "code",
   "execution_count": 12,
   "id": "35e7ced9",
   "metadata": {},
   "outputs": [],
   "source": [
    "if not os.path.exists(IMAGES_PATH):\n",
    "    if os.name == 'posix':\n",
    "        !mkdir -p {IMAGES_PATH}\n",
    "    if os.name == 'nt':\n",
    "         !mkdir {IMAGES_PATH}\n",
    "for label in labels:\n",
    "    path = os.path.join(IMAGES_PATH, label)\n",
    "    if not os.path.exists(path):\n",
    "        !mkdir {path}"
   ]
  },
  {
   "cell_type": "markdown",
   "id": "a0c00a43",
   "metadata": {},
   "source": [
    "# 6.Capture Images."
   ]
  },
  {
   "cell_type": "code",
   "execution_count": 28,
   "id": "a88ad202",
   "metadata": {},
   "outputs": [
    {
     "name": "stdout",
     "output_type": "stream",
     "text": [
      "Collecting images for DefectivePin\n",
      "Collecting image 0\n",
      "Collecting image 1\n",
      "Collecting image 2\n",
      "Collecting image 3\n",
      "Collecting image 4\n",
      "Collecting image 5\n",
      "Collecting image 6\n",
      "Collecting image 7\n",
      "Collecting image 8\n",
      "Collecting image 9\n"
     ]
    }
   ],
   "source": [
    "for label in labels:\n",
    "    cap = cv2.VideoCapture(0)\n",
    "    print('Collecting images for {}'.format(label))\n",
    "    time.sleep(5)\n",
    "    for imgnum in range(number_imgs):\n",
    "        print('Collecting image {}'.format(imgnum))\n",
    "        ret, frame = cap.read()\n",
    "        imgname = os.path.join(IMAGES_PATH,label,label+'.'+'{}.jpg'.format(str(uuid.uuid1())))\n",
    "        cv2.imwrite(imgname, frame)\n",
    "        cv2.imshow('frame', frame)\n",
    "        time.sleep(3)\n",
    "\n",
    "        if cv2.waitKey(1) & 0xFF == ord('q'):\n",
    "            break\n",
    "cap.release()\n",
    "cv2.destroyAllWindows()"
   ]
  },
  {
   "cell_type": "markdown",
   "id": "f1d2f0e0",
   "metadata": {},
   "source": [
    "# 7.Labelling image"
   ]
  },
  {
   "cell_type": "code",
   "execution_count": 15,
   "id": "3e4664a1",
   "metadata": {},
   "outputs": [
    {
     "name": "stdout",
     "output_type": "stream",
     "text": [
      "Collecting pyqt5\n",
      "  Downloading PyQt5-5.15.6-cp36-abi3-win_amd64.whl (6.7 MB)\n",
      "     ---------------------------------------- 6.7/6.7 MB 2.4 MB/s eta 0:00:00\n",
      "Collecting lxml\n",
      "  Downloading lxml-4.8.0-cp39-cp39-win_amd64.whl (3.6 MB)\n",
      "     ---------------------------------------- 3.6/3.6 MB 2.8 MB/s eta 0:00:00\n",
      "Collecting PyQt5-Qt5>=5.15.2\n",
      "  Downloading PyQt5_Qt5-5.15.2-py3-none-win_amd64.whl (50.1 MB)\n",
      "     ---------------------------------------- 50.1/50.1 MB 2.3 MB/s eta 0:00:00\n",
      "Collecting PyQt5-sip<13,>=12.8\n",
      "  Downloading PyQt5_sip-12.9.1-cp39-cp39-win_amd64.whl (77 kB)\n",
      "     --------------------------------------- 77.7/77.7 KB 35.7 kB/s eta 0:00:00\n",
      "Installing collected packages: PyQt5-Qt5, PyQt5-sip, lxml, pyqt5\n",
      "Successfully installed PyQt5-Qt5-5.15.2 PyQt5-sip-12.9.1 lxml-4.8.0 pyqt5-5.15.6\n"
     ]
    }
   ],
   "source": [
    "!pip install --upgrade pyqt5 lxml "
   ]
  },
  {
   "cell_type": "code",
   "execution_count": 17,
   "id": "5c3032d0",
   "metadata": {},
   "outputs": [],
   "source": [
    "# pyqt5 for using gui application(Labeling image.py) from git repo and lxml for hanedlling xml)"
   ]
  },
  {
   "cell_type": "code",
   "execution_count": 18,
   "id": "f81fe2b6",
   "metadata": {},
   "outputs": [],
   "source": [
    "LABELIMG_PATH = os.path.join('Tensorflow', 'labelimg')"
   ]
  },
  {
   "cell_type": "code",
   "execution_count": 19,
   "id": "9db2e179",
   "metadata": {},
   "outputs": [
    {
     "name": "stderr",
     "output_type": "stream",
     "text": [
      "Cloning into 'Tensorflow\\labelimg'...\n"
     ]
    }
   ],
   "source": [
    "if not os.path.exists(LABELIMG_PATH):\n",
    "    !mkdir {LABELIMG_PATH}\n",
    "    !git clone https://github.com/tzutalin/labelImg {LABELIMG_PATH}"
   ]
  },
  {
   "cell_type": "code",
   "execution_count": 20,
   "id": "bbd62bcc",
   "metadata": {},
   "outputs": [],
   "source": [
    "if os.name == 'posix':\n",
    "    !make qt5py3\n",
    "if os.name =='nt':\n",
    "    !cd {LABELIMG_PATH} && pyrcc5 -o libs/resources.py resources.qrc"
   ]
  },
  {
   "cell_type": "code",
   "execution_count": 29,
   "id": "21a1b49c",
   "metadata": {},
   "outputs": [
    {
     "name": "stdout",
     "output_type": "stream",
     "text": [
      "Image:D:\\Artificial Intelligence project\\Object Defect Detection\\Tensorflow\\workspace\\images\\collectedimages\\DefectivePin\\DefectivePin.1b151207-b354-11ec-ad06-b7cc2438db53.jpg -> Annotation:D:/Artificial Intelligence project/Object Defect Detection/Tensorflow/workspace/images/collectedimages/DefectivePin/DefectivePin.1b151207-b354-11ec-ad06-b7cc2438db53.xml\n",
      "Cancel creation.\n",
      "Image:D:\\Artificial Intelligence project\\Object Defect Detection\\Tensorflow\\workspace\\images\\collectedimages\\DefectivePin\\DefectivePin.1ce708cc-b354-11ec-a282-b7cc2438db53.jpg -> Annotation:D:/Artificial Intelligence project/Object Defect Detection/Tensorflow/workspace/images/collectedimages/DefectivePin/DefectivePin.1ce708cc-b354-11ec-a282-b7cc2438db53.xml\n",
      "Image:D:\\Artificial Intelligence project\\Object Defect Detection\\Tensorflow\\workspace\\images\\collectedimages\\DefectivePin\\DefectivePin.7a6b7c06-b354-11ec-8448-b7cc2438db53.jpg -> Annotation:D:/Artificial Intelligence project/Object Defect Detection/Tensorflow/workspace/images/collectedimages/DefectivePin/DefectivePin.7a6b7c06-b354-11ec-8448-b7cc2438db53.xml\n",
      "Image:D:\\Artificial Intelligence project\\Object Defect Detection\\Tensorflow\\workspace\\images\\collectedimages\\DefectivePin\\DefectivePin.1eb6c909-b354-11ec-8509-b7cc2438db53.jpg -> Annotation:D:/Artificial Intelligence project/Object Defect Detection/Tensorflow/workspace/images/collectedimages/DefectivePin/DefectivePin.1eb6c909-b354-11ec-8509-b7cc2438db53.xml\n",
      "Image:D:\\Artificial Intelligence project\\Object Defect Detection\\Tensorflow\\workspace\\images\\collectedimages\\DefectivePin\\DefectivePin.7c38f070-b354-11ec-8802-b7cc2438db53.jpg -> Annotation:D:/Artificial Intelligence project/Object Defect Detection/Tensorflow/workspace/images/collectedimages/DefectivePin/DefectivePin.7c38f070-b354-11ec-8802-b7cc2438db53.xml\n",
      "Image:D:\\Artificial Intelligence project\\Object Defect Detection\\Tensorflow\\workspace\\images\\collectedimages\\DefectivePin\\DefectivePin.7e06f52a-b354-11ec-a3fd-b7cc2438db53.jpg -> Annotation:D:/Artificial Intelligence project/Object Defect Detection/Tensorflow/workspace/images/collectedimages/DefectivePin/DefectivePin.7e06f52a-b354-11ec-a3fd-b7cc2438db53.xml\n",
      "Image:D:\\Artificial Intelligence project\\Object Defect Detection\\Tensorflow\\workspace\\images\\collectedimages\\DefectivePin\\DefectivePin.7fd5ac90-b354-11ec-8223-b7cc2438db53.jpg -> Annotation:D:/Artificial Intelligence project/Object Defect Detection/Tensorflow/workspace/images/collectedimages/DefectivePin/DefectivePin.7fd5ac90-b354-11ec-8223-b7cc2438db53.xml\n",
      "Image:D:\\Artificial Intelligence project\\Object Defect Detection\\Tensorflow\\workspace\\images\\collectedimages\\DefectivePin\\DefectivePin.9c2e8de2-b354-11ec-aaf1-b7cc2438db53.jpg -> Annotation:D:/Artificial Intelligence project/Object Defect Detection/Tensorflow/workspace/images/collectedimages/DefectivePin/DefectivePin.9c2e8de2-b354-11ec-aaf1-b7cc2438db53.xml\n",
      "Image:D:\\Artificial Intelligence project\\Object Defect Detection\\Tensorflow\\workspace\\images\\collectedimages\\DefectivePin\\DefectivePin.9e0499a2-b354-11ec-a5a2-b7cc2438db53.jpg -> Annotation:D:/Artificial Intelligence project/Object Defect Detection/Tensorflow/workspace/images/collectedimages/DefectivePin/DefectivePin.9e0499a2-b354-11ec-a5a2-b7cc2438db53.xml\n",
      "Image:D:\\Artificial Intelligence project\\Object Defect Detection\\Tensorflow\\workspace\\images\\collectedimages\\DefectivePin\\DefectivePin.9fd6159d-b354-11ec-805a-b7cc2438db53.jpg -> Annotation:D:/Artificial Intelligence project/Object Defect Detection/Tensorflow/workspace/images/collectedimages/DefectivePin/DefectivePin.9fd6159d-b354-11ec-805a-b7cc2438db53.xml\n",
      "Image:D:\\Artificial Intelligence project\\Object Defect Detection\\Tensorflow\\workspace\\images\\collectedimages\\DefectivePin\\DefectivePin.25f89fe6-b354-11ec-9723-b7cc2438db53.jpg -> Annotation:D:/Artificial Intelligence project/Object Defect Detection/Tensorflow/workspace/images/collectedimages/DefectivePin/DefectivePin.25f89fe6-b354-11ec-9723-b7cc2438db53.xml\n",
      "Image:D:\\Artificial Intelligence project\\Object Defect Detection\\Tensorflow\\workspace\\images\\collectedimages\\DefectivePin\\DefectivePin.27ca4df0-b354-11ec-a648-b7cc2438db53.jpg -> Annotation:D:/Artificial Intelligence project/Object Defect Detection/Tensorflow/workspace/images/collectedimages/DefectivePin/DefectivePin.27ca4df0-b354-11ec-a648-b7cc2438db53.xml\n",
      "Image:D:\\Artificial Intelligence project\\Object Defect Detection\\Tensorflow\\workspace\\images\\collectedimages\\DefectivePin\\DefectivePin.76d02d61-b354-11ec-9d8a-b7cc2438db53.jpg -> Annotation:D:/Artificial Intelligence project/Object Defect Detection/Tensorflow/workspace/images/collectedimages/DefectivePin/DefectivePin.76d02d61-b354-11ec-9d8a-b7cc2438db53.xml\n",
      "Image:D:\\Artificial Intelligence project\\Object Defect Detection\\Tensorflow\\workspace\\images\\collectedimages\\DefectivePin\\DefectivePin.81a3325c-b354-11ec-b77d-b7cc2438db53.jpg -> Annotation:D:/Artificial Intelligence project/Object Defect Detection/Tensorflow/workspace/images/collectedimages/DefectivePin/DefectivePin.81a3325c-b354-11ec-b77d-b7cc2438db53.xml\n",
      "Image:D:\\Artificial Intelligence project\\Object Defect Detection\\Tensorflow\\workspace\\images\\collectedimages\\DefectivePin\\DefectivePin.299b0678-b354-11ec-b531-b7cc2438db53.jpg -> Annotation:D:/Artificial Intelligence project/Object Defect Detection/Tensorflow/workspace/images/collectedimages/DefectivePin/DefectivePin.299b0678-b354-11ec-b531-b7cc2438db53.xml\n",
      "Image:D:\\Artificial Intelligence project\\Object Defect Detection\\Tensorflow\\workspace\\images\\collectedimages\\DefectivePin\\DefectivePin.732da40b-b354-11ec-bf6b-b7cc2438db53.jpg -> Annotation:D:/Artificial Intelligence project/Object Defect Detection/Tensorflow/workspace/images/collectedimages/DefectivePin/DefectivePin.732da40b-b354-11ec-bf6b-b7cc2438db53.xml\n",
      "Image:D:\\Artificial Intelligence project\\Object Defect Detection\\Tensorflow\\workspace\\images\\collectedimages\\DefectivePin\\DefectivePin.789de017-b354-11ec-ba83-b7cc2438db53.jpg -> Annotation:D:/Artificial Intelligence project/Object Defect Detection/Tensorflow/workspace/images/collectedimages/DefectivePin/DefectivePin.789de017-b354-11ec-ba83-b7cc2438db53.xml\n",
      "Image:D:\\Artificial Intelligence project\\Object Defect Detection\\Tensorflow\\workspace\\images\\collectedimages\\DefectivePin\\DefectivePin.8371f869-b354-11ec-8959-b7cc2438db53.jpg -> Annotation:D:/Artificial Intelligence project/Object Defect Detection/Tensorflow/workspace/images/collectedimages/DefectivePin/DefectivePin.8371f869-b354-11ec-8959-b7cc2438db53.xml\n",
      "Image:D:\\Artificial Intelligence project\\Object Defect Detection\\Tensorflow\\workspace\\images\\collectedimages\\DefectivePin\\DefectivePin.19427c48-b354-11ec-9455-b7cc2438db53.jpg -> Annotation:D:/Artificial Intelligence project/Object Defect Detection/Tensorflow/workspace/images/collectedimages/DefectivePin/DefectivePin.19427c48-b354-11ec-9455-b7cc2438db53.xml\n",
      "Image:D:\\Artificial Intelligence project\\Object Defect Detection\\Tensorflow\\workspace\\images\\collectedimages\\DefectivePin\\DefectivePin.20876c72-b354-11ec-912e-b7cc2438db53.jpg -> Annotation:D:/Artificial Intelligence project/Object Defect Detection/Tensorflow/workspace/images/collectedimages/DefectivePin/DefectivePin.20876c72-b354-11ec-912e-b7cc2438db53.xml\n",
      "Image:D:\\Artificial Intelligence project\\Object Defect Detection\\Tensorflow\\workspace\\images\\collectedimages\\DefectivePin\\DefectivePin.225799b5-b354-11ec-82d6-b7cc2438db53.jpg -> Annotation:D:/Artificial Intelligence project/Object Defect Detection/Tensorflow/workspace/images/collectedimages/DefectivePin/DefectivePin.225799b5-b354-11ec-82d6-b7cc2438db53.xml\n",
      "Image:D:\\Artificial Intelligence project\\Object Defect Detection\\Tensorflow\\workspace\\images\\collectedimages\\DefectivePin\\DefectivePin.75035484-b354-11ec-b6e0-b7cc2438db53.jpg -> Annotation:D:/Artificial Intelligence project/Object Defect Detection/Tensorflow/workspace/images/collectedimages/DefectivePin/DefectivePin.75035484-b354-11ec-b6e0-b7cc2438db53.xml\n",
      "Cancel creation.\n",
      "Image:D:\\Artificial Intelligence project\\Object Defect Detection\\Tensorflow\\workspace\\images\\collectedimages\\DefectivePin\\DefectivePin.a1a3ceeb-b354-11ec-bd07-b7cc2438db53.jpg -> Annotation:D:/Artificial Intelligence project/Object Defect Detection/Tensorflow/workspace/images/collectedimages/DefectivePin/DefectivePin.a1a3ceeb-b354-11ec-bd07-b7cc2438db53.xml\n",
      "Image:D:\\Artificial Intelligence project\\Object Defect Detection\\Tensorflow\\workspace\\images\\collectedimages\\DefectivePin\\DefectivePin.a8da6a4f-b354-11ec-977f-b7cc2438db53.jpg -> Annotation:D:/Artificial Intelligence project/Object Defect Detection/Tensorflow/workspace/images/collectedimages/DefectivePin/DefectivePin.a8da6a4f-b354-11ec-977f-b7cc2438db53.xml\n",
      "Image:D:\\Artificial Intelligence project\\Object Defect Detection\\Tensorflow\\workspace\\images\\collectedimages\\DefectivePin\\DefectivePin.a70d4674-b354-11ec-b8ce-b7cc2438db53.jpg -> Annotation:D:/Artificial Intelligence project/Object Defect Detection/Tensorflow/workspace/images/collectedimages/DefectivePin/DefectivePin.a70d4674-b354-11ec-b8ce-b7cc2438db53.xml\n",
      "Image:D:\\Artificial Intelligence project\\Object Defect Detection\\Tensorflow\\workspace\\images\\collectedimages\\DefectivePin\\DefectivePin.a540b3de-b354-11ec-aa29-b7cc2438db53.jpg -> Annotation:D:/Artificial Intelligence project/Object Defect Detection/Tensorflow/workspace/images/collectedimages/DefectivePin/DefectivePin.a540b3de-b354-11ec-aa29-b7cc2438db53.xml\n",
      "Image:D:\\Artificial Intelligence project\\Object Defect Detection\\Tensorflow\\workspace\\images\\collectedimages\\DefectivePin\\DefectivePin.a372701e-b354-11ec-9b7a-b7cc2438db53.jpg -> Annotation:D:/Artificial Intelligence project/Object Defect Detection/Tensorflow/workspace/images/collectedimages/DefectivePin/DefectivePin.a372701e-b354-11ec-9b7a-b7cc2438db53.xml\n",
      "Image:D:\\Artificial Intelligence project\\Object Defect Detection\\Tensorflow\\workspace\\images\\collectedimages\\DefectivePin\\DefectivePin.aaa79d55-b354-11ec-a433-b7cc2438db53.jpg -> Annotation:D:/Artificial Intelligence project/Object Defect Detection/Tensorflow/workspace/images/collectedimages/DefectivePin/DefectivePin.aaa79d55-b354-11ec-a433-b7cc2438db53.xml\n",
      "Image:D:\\Artificial Intelligence project\\Object Defect Detection\\Tensorflow\\workspace\\images\\collectedimages\\DefectivePin\\DefectivePin.ac758026-b354-11ec-838a-b7cc2438db53.jpg -> Annotation:D:/Artificial Intelligence project/Object Defect Detection/Tensorflow/workspace/images/collectedimages/DefectivePin/DefectivePin.ac758026-b354-11ec-838a-b7cc2438db53.xml\n",
      "Image:D:\\Artificial Intelligence project\\Object Defect Detection\\Tensorflow\\workspace\\images\\collectedimages\\DefectivePin\\DefectivePin.c9829178-b354-11ec-8bac-b7cc2438db53.jpg -> Annotation:D:/Artificial Intelligence project/Object Defect Detection/Tensorflow/workspace/images/collectedimages/DefectivePin/DefectivePin.c9829178-b354-11ec-8bac-b7cc2438db53.xml\n",
      "Image:D:\\Artificial Intelligence project\\Object Defect Detection\\Tensorflow\\workspace\\images\\collectedimages\\DefectivePin\\DefectivePin.cb561e66-b354-11ec-bd80-b7cc2438db53.jpg -> Annotation:D:/Artificial Intelligence project/Object Defect Detection/Tensorflow/workspace/images/collectedimages/DefectivePin/DefectivePin.cb561e66-b354-11ec-bd80-b7cc2438db53.xml\n",
      "Image:D:\\Artificial Intelligence project\\Object Defect Detection\\Tensorflow\\workspace\\images\\collectedimages\\DefectivePin\\DefectivePin.ce01dfa7-b354-11ec-b5ad-b7cc2438db53.jpg -> Annotation:D:/Artificial Intelligence project/Object Defect Detection/Tensorflow/workspace/images/collectedimages/DefectivePin/DefectivePin.ce01dfa7-b354-11ec-b5ad-b7cc2438db53.xml\n",
      "Image:D:\\Artificial Intelligence project\\Object Defect Detection\\Tensorflow\\workspace\\images\\collectedimages\\DefectivePin\\DefectivePin.cfcf73c7-b354-11ec-870d-b7cc2438db53.jpg -> Annotation:D:/Artificial Intelligence project/Object Defect Detection/Tensorflow/workspace/images/collectedimages/DefectivePin/DefectivePin.cfcf73c7-b354-11ec-870d-b7cc2438db53.xml\n",
      "Image:D:\\Artificial Intelligence project\\Object Defect Detection\\Tensorflow\\workspace\\images\\collectedimages\\DefectivePin\\DefectivePin.d8d58962-b354-11ec-810e-b7cc2438db53.jpg -> Annotation:D:/Artificial Intelligence project/Object Defect Detection/Tensorflow/workspace/images/collectedimages/DefectivePin/DefectivePin.d8d58962-b354-11ec-810e-b7cc2438db53.xml\n",
      "Image:D:\\Artificial Intelligence project\\Object Defect Detection\\Tensorflow\\workspace\\images\\collectedimages\\DefectivePin\\DefectivePin.d19d6ef8-b354-11ec-ab35-b7cc2438db53.jpg -> Annotation:D:/Artificial Intelligence project/Object Defect Detection/Tensorflow/workspace/images/collectedimages/DefectivePin/DefectivePin.d19d6ef8-b354-11ec-ab35-b7cc2438db53.xml\n",
      "Image:D:\\Artificial Intelligence project\\Object Defect Detection\\Tensorflow\\workspace\\images\\collectedimages\\DefectivePin\\DefectivePin.d36af564-b354-11ec-8ae9-b7cc2438db53.jpg -> Annotation:D:/Artificial Intelligence project/Object Defect Detection/Tensorflow/workspace/images/collectedimages/DefectivePin/DefectivePin.d36af564-b354-11ec-8ae9-b7cc2438db53.xml\n",
      "Image:D:\\Artificial Intelligence project\\Object Defect Detection\\Tensorflow\\workspace\\images\\collectedimages\\DefectivePin\\DefectivePin.d539e43e-b354-11ec-9414-b7cc2438db53.jpg -> Annotation:D:/Artificial Intelligence project/Object Defect Detection/Tensorflow/workspace/images/collectedimages/DefectivePin/DefectivePin.d539e43e-b354-11ec-9414-b7cc2438db53.xml\n",
      "Image:D:\\Artificial Intelligence project\\Object Defect Detection\\Tensorflow\\workspace\\images\\collectedimages\\DefectivePin\\DefectivePin.d708407d-b354-11ec-9855-b7cc2438db53.jpg -> Annotation:D:/Artificial Intelligence project/Object Defect Detection/Tensorflow/workspace/images/collectedimages/DefectivePin/DefectivePin.d708407d-b354-11ec-9855-b7cc2438db53.xml\n",
      "Image:D:\\Artificial Intelligence project\\Object Defect Detection\\Tensorflow\\workspace\\images\\collectedimages\\DefectivePin\\DefectivePin.daa27bb0-b354-11ec-b1f7-b7cc2438db53.jpg -> Annotation:D:/Artificial Intelligence project/Object Defect Detection/Tensorflow/workspace/images/collectedimages/DefectivePin/DefectivePin.daa27bb0-b354-11ec-b1f7-b7cc2438db53.xml\n",
      "Image:D:\\Artificial Intelligence project\\Object Defect Detection\\Tensorflow\\workspace\\images\\collectedimages\\DefectivePin\\DefectivePin.242908d1-b354-11ec-ac90-b7cc2438db53.jpg -> Annotation:D:/Artificial Intelligence project/Object Defect Detection/Tensorflow/workspace/images/collectedimages/DefectivePin/DefectivePin.242908d1-b354-11ec-ac90-b7cc2438db53.xml\n",
      "Image:D:\\Artificial Intelligence project\\Object Defect Detection\\Tensorflow\\workspace\\images\\collectedimages\\NonDefectivePin\\NonDefectivePin.2f34091f-b354-11ec-a79a-b7cc2438db53.jpg -> Annotation:D:/Artificial Intelligence project/Object Defect Detection/Tensorflow/workspace/images/collectedimages/NonDefectivePin/NonDefectivePin.2f34091f-b354-11ec-a79a-b7cc2438db53.xml\n",
      "Image:D:\\Artificial Intelligence project\\Object Defect Detection\\Tensorflow\\workspace\\images\\collectedimages\\NonDefectivePin\\NonDefectivePin.3a1d24f1-b354-11ec-8e33-b7cc2438db53.jpg -> Annotation:D:/Artificial Intelligence project/Object Defect Detection/Tensorflow/workspace/images/collectedimages/NonDefectivePin/NonDefectivePin.3a1d24f1-b354-11ec-8e33-b7cc2438db53.xml\n",
      "Image:D:\\Artificial Intelligence project\\Object Defect Detection\\Tensorflow\\workspace\\images\\collectedimages\\NonDefectivePin\\NonDefectivePin.3bece4a3-b354-11ec-83f2-b7cc2438db53.jpg -> Annotation:D:/Artificial Intelligence project/Object Defect Detection/Tensorflow/workspace/images/collectedimages/NonDefectivePin/NonDefectivePin.3bece4a3-b354-11ec-83f2-b7cc2438db53.xml\n",
      "Image:D:\\Artificial Intelligence project\\Object Defect Detection\\Tensorflow\\workspace\\images\\collectedimages\\NonDefectivePin\\NonDefectivePin.3dbe1009-b354-11ec-987a-b7cc2438db53.jpg -> Annotation:D:/Artificial Intelligence project/Object Defect Detection/Tensorflow/workspace/images/collectedimages/NonDefectivePin/NonDefectivePin.3dbe1009-b354-11ec-987a-b7cc2438db53.xml\n",
      "Image:D:\\Artificial Intelligence project\\Object Defect Detection\\Tensorflow\\workspace\\images\\collectedimages\\NonDefectivePin\\NonDefectivePin.3f90a2a2-b354-11ec-8706-b7cc2438db53.jpg -> Annotation:D:/Artificial Intelligence project/Object Defect Detection/Tensorflow/workspace/images/collectedimages/NonDefectivePin/NonDefectivePin.3f90a2a2-b354-11ec-8706-b7cc2438db53.xml\n",
      "Image:D:\\Artificial Intelligence project\\Object Defect Detection\\Tensorflow\\workspace\\images\\collectedimages\\NonDefectivePin\\NonDefectivePin.32d5dc98-b354-11ec-b9ed-b7cc2438db53.jpg -> Annotation:D:/Artificial Intelligence project/Object Defect Detection/Tensorflow/workspace/images/collectedimages/NonDefectivePin/NonDefectivePin.32d5dc98-b354-11ec-b9ed-b7cc2438db53.xml\n",
      "Image:D:\\Artificial Intelligence project\\Object Defect Detection\\Tensorflow\\workspace\\images\\collectedimages\\NonDefectivePin\\NonDefectivePin.34a7c668-b354-11ec-a348-b7cc2438db53.jpg -> Annotation:D:/Artificial Intelligence project/Object Defect Detection/Tensorflow/workspace/images/collectedimages/NonDefectivePin/NonDefectivePin.34a7c668-b354-11ec-a348-b7cc2438db53.xml\n",
      "Image:D:\\Artificial Intelligence project\\Object Defect Detection\\Tensorflow\\workspace\\images\\collectedimages\\NonDefectivePin\\NonDefectivePin.367a2795-b354-11ec-abd0-b7cc2438db53.jpg -> Annotation:D:/Artificial Intelligence project/Object Defect Detection/Tensorflow/workspace/images/collectedimages/NonDefectivePin/NonDefectivePin.367a2795-b354-11ec-abd0-b7cc2438db53.xml\n",
      "Image:D:\\Artificial Intelligence project\\Object Defect Detection\\Tensorflow\\workspace\\images\\collectedimages\\NonDefectivePin\\NonDefectivePin.384c595b-b354-11ec-8bcb-b7cc2438db53.jpg -> Annotation:D:/Artificial Intelligence project/Object Defect Detection/Tensorflow/workspace/images/collectedimages/NonDefectivePin/NonDefectivePin.384c595b-b354-11ec-8bcb-b7cc2438db53.xml\n",
      "Image:D:\\Artificial Intelligence project\\Object Defect Detection\\Tensorflow\\workspace\\images\\collectedimages\\NonDefectivePin\\NonDefectivePin.31066a75-b354-11ec-ab41-b7cc2438db53.jpg -> Annotation:D:/Artificial Intelligence project/Object Defect Detection/Tensorflow/workspace/images/collectedimages/NonDefectivePin/NonDefectivePin.31066a75-b354-11ec-ab41-b7cc2438db53.xml\n"
     ]
    }
   ],
   "source": [
    "!cd {LABELIMG_PATH} && python labelImg.py"
   ]
  },
  {
   "cell_type": "markdown",
   "id": "f71cbb39",
   "metadata": {},
   "source": [
    "# Moving to train and test"
   ]
  },
  {
   "cell_type": "code",
   "execution_count": 23,
   "id": "b9d29267",
   "metadata": {},
   "outputs": [],
   "source": [
    "#Do Manually in mechines directory."
   ]
  },
  {
   "cell_type": "code",
   "execution_count": null,
   "id": "a00413c3",
   "metadata": {},
   "outputs": [],
   "source": []
  }
 ],
 "metadata": {
  "kernelspec": {
   "display_name": "3idiots",
   "language": "python",
   "name": "3idiots"
  },
  "language_info": {
   "codemirror_mode": {
    "name": "ipython",
    "version": 3
   },
   "file_extension": ".py",
   "mimetype": "text/x-python",
   "name": "python",
   "nbconvert_exporter": "python",
   "pygments_lexer": "ipython3",
   "version": "3.9.7"
  }
 },
 "nbformat": 4,
 "nbformat_minor": 5
}
